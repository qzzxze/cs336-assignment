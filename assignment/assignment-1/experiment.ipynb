{
 "cells": [
  {
   "cell_type": "code",
   "execution_count": 52,
   "id": "764ba640",
   "metadata": {},
   "outputs": [
    {
     "name": "stdout",
     "output_type": "stream",
     "text": [
      "\n",
      "hello world hello\n",
      "how are you\n",
      "i am fine thank you\n",
      "hello python world\n",
      "\n"
     ]
    }
   ],
   "source": [
    "text = \"\"\"\n",
    "hello world hello\n",
    "how are you\n",
    "i am fine thank you\n",
    "hello python world\n",
    "\"\"\"\n",
    "print(text)"
   ]
  },
  {
   "cell_type": "code",
   "execution_count": 53,
   "id": "bedbc5f3",
   "metadata": {},
   "outputs": [
    {
     "name": "stdout",
     "output_type": "stream",
     "text": [
      "hello world hello how are you i am fine thank you hello python world\n"
     ]
    }
   ],
   "source": [
    "words = text.strip().split()\n",
    "text = \" \".join(words)\n",
    "print(text)"
   ]
  },
  {
   "cell_type": "code",
   "execution_count": null,
   "id": "0ca1679e",
   "metadata": {},
   "outputs": [
    {
     "name": "stdout",
     "output_type": "stream",
     "text": [
      "defaultdict(<class 'int'>, {'hello': 3, 'world': 2, 'how': 1, 'are': 1, 'you': 2, 'i': 1, 'am': 1, 'fine': 1, 'thank': 1, 'python': 1})\n"
     ]
    }
   ],
   "source": [
    "from collections import defaultdict\n",
    "\n",
    "word_freqs = defaultdict(int)\n",
    "for word in words:\n",
    "    word_freqs[word] += 1\n",
    "\n",
    "print(word_freqs)"
   ]
  },
  {
   "cell_type": "code",
   "execution_count": 12,
   "id": "324d73f0",
   "metadata": {},
   "outputs": [
    {
     "name": "stdout",
     "output_type": "stream",
     "text": [
      "{'hello</w>': 3, 'world</w>': 2, 'how</w>': 1, 'are</w>': 1, 'you</w>': 2, 'i</w>': 1, 'am</w>': 1, 'fine</w>': 1, 'thank</w>': 1, 'python</w>': 1}\n"
     ]
    }
   ],
   "source": [
    "word_freqs_with_end = {}\n",
    "for word, freq in word_freqs.items():\n",
    "    word_with_end = word + \"</w>\"\n",
    "    word_freqs_with_end[word_with_end] = freq\n",
    "\n",
    "print(word_freqs_with_end)"
   ]
  },
  {
   "cell_type": "code",
   "execution_count": 13,
   "id": "25c69a45",
   "metadata": {},
   "outputs": [
    {
     "name": "stdout",
     "output_type": "stream",
     "text": [
      "{'hello</w>': ['h', 'e', 'l', 'l', 'o', '<', '/', 'w', '>'], 'world</w>': ['w', 'o', 'r', 'l', 'd', '<', '/', 'w', '>'], 'how</w>': ['h', 'o', 'w', '<', '/', 'w', '>'], 'are</w>': ['a', 'r', 'e', '<', '/', 'w', '>'], 'you</w>': ['y', 'o', 'u', '<', '/', 'w', '>'], 'i</w>': ['i', '<', '/', 'w', '>'], 'am</w>': ['a', 'm', '<', '/', 'w', '>'], 'fine</w>': ['f', 'i', 'n', 'e', '<', '/', 'w', '>'], 'thank</w>': ['t', 'h', 'a', 'n', 'k', '<', '/', 'w', '>'], 'python</w>': ['p', 'y', 't', 'h', 'o', 'n', '<', '/', 'w', '>']}\n"
     ]
    }
   ],
   "source": [
    "splits = {}\n",
    "for word in word_freqs_with_end:\n",
    "    splits[word] = list(word)\n",
    "\n",
    "print(splits)"
   ]
  },
  {
   "cell_type": "code",
   "execution_count": 26,
   "id": "29779871",
   "metadata": {},
   "outputs": [],
   "source": [
    "def compare_pair_freqs(splits, word_freqs):\n",
    "    pair_freqs = defaultdict(int)\n",
    "    for word, freq in word_freqs.items():\n",
    "        split = splits[word]\n",
    "\n",
    "        for i in range(0, len(split) - 1):\n",
    "            pair = (split[i], split[i + 1])\n",
    "            pair_freqs[pair] += freq\n",
    "            \n",
    "    return pair_freqs"
   ]
  },
  {
   "cell_type": "code",
   "execution_count": 30,
   "id": "b94cf118",
   "metadata": {},
   "outputs": [],
   "source": [
    "def merge_pairs(a, b, splits):\n",
    "    for word in splits:\n",
    "        split = splits[word]\n",
    "        new_split = []\n",
    "        i = 0\n",
    "        while i <= len(split) - 1:\n",
    "            if i <= len(split) - 2 and split[i] == a and split[i + 1] == b:\n",
    "                new_split.append(a + b)\n",
    "                i += 2\n",
    "            else:\n",
    "                new_split.append(split[i])\n",
    "                i += 1\n",
    "        splits[word] = new_split\n",
    "    return splits"
   ]
  },
  {
   "cell_type": "code",
   "execution_count": 59,
   "id": "9ad3dcd6",
   "metadata": {},
   "outputs": [
    {
     "name": "stdout",
     "output_type": "stream",
     "text": [
      "第1次合并：把'a和'r'合并成ar,共出现1次！\n",
      "第2次合并：把'ar和'e</w>'合并成are</w>,共出现1次！\n",
      "第3次合并：把'i和'</w>'合并成i</w>,共出现1次！\n",
      "第4次合并：把'a和'm'合并成am,共出现1次！\n",
      "第5次合并：把'am和'</w>'合并成am</w>,共出现1次！\n",
      "第6次合并：把'f和'i'合并成fi,共出现1次！\n",
      "第7次合并：把'fi和'n'合并成fin,共出现1次！\n",
      "第8次合并：把'fin和'e</w>'合并成fine</w>,共出现1次！\n",
      "第9次合并：把't和'h'合并成th,共出现1次！\n",
      "第10次合并：把'th和'a'合并成tha,共出现1次！\n",
      "{'hello</w>': ['hello</w>'], 'world</w>': ['world</w>'], 'how</w>': ['how</w>'], 'are</w>': ['are</w>'], 'you</w>': ['you</w>'], 'i</w>': ['i</w>'], 'am</w>': ['am</w>'], 'fine</w>': ['fine</w>'], 'thank</w>': ['tha', 'n', 'k', '</w>'], 'python</w>': ['p', 'y', 't', 'ho', 'n', '</w>']}\n"
     ]
    }
   ],
   "source": [
    "num_merges = 10\n",
    "merges = {}\n",
    "\n",
    "for step in range(num_merges):\n",
    "    pair_freqs = compare_pair_freqs(splits=splits, word_freqs=word_freqs_with_end)\n",
    "\n",
    "    if len(pair_freqs) == 0:\n",
    "        print(\"没有可以合并的字符对了\")\n",
    "        break\n",
    "\n",
    "    best_pair = max(pair_freqs, key=pair_freqs.get)\n",
    "    best_freq = pair_freqs[best_pair]\n",
    "\n",
    "    print(\n",
    "        f\"第{step + 1}次合并：把'{best_pair[0]}和'{best_pair[1]}'合并成{best_pair[0]+best_pair[-1]},共出现{best_freq}次！\"\n",
    "    )\n",
    "    merges[best_pair] = best_pair[0] + best_pair[1]\n",
    "\n",
    "    splits = merge_pairs(best_pair[0], best_pair[1], splits)\n",
    "    \n",
    "print(splits)"
   ]
  },
  {
   "cell_type": "code",
   "execution_count": 61,
   "id": "2014be96",
   "metadata": {},
   "outputs": [
    {
     "name": "stdout",
     "output_type": "stream",
     "text": [
      "{'r', 'u', 'n', '/', 'o', 'h', 'p', 'w', 'a', '<', 'i', '>', 'm', 'd', 'k', 'l', 'f', 'e', 't', 'y'}\n",
      "{'r', '<UNK>', 'u', 'n', '/', 'tha', 'fine</w>', 'am</w>', 'o', 'p', 'h', 'w', 'a', 'are</w>', '<', 'world</w>', 'i', '>', 'm', 'd', 'k', 'hello</w>', 'l', 'you</w>', 'f', 'ho', 'i</w>', 'e', 'how</w>', 't', '</w>', 'y'}\n"
     ]
    }
   ],
   "source": [
    "vocab = set()\n",
    "for split in splits.values():\n",
    "    for token in split:\n",
    "        vocab.add(token)\n",
    "\n",
    "all_chars = set()\n",
    "for word in word_freqs_with_end:\n",
    "    for c in word:\n",
    "        all_chars.add(c)\n",
    "print(all_chars)\n",
    "\n",
    "vocab.update(all_chars)\n",
    "vocab.add(\"<UNK>\")\n",
    "print(vocab)"
   ]
  },
  {
   "cell_type": "code",
   "execution_count": 45,
   "id": "053801c5",
   "metadata": {},
   "outputs": [
    {
     "name": "stdout",
     "output_type": "stream",
     "text": [
      "['/', '<', '</w>', '<UNK>', '>', 'a', 'd', 'e', 'e</w>', 'f', 'h', 'hello</w>', 'ho', 'how</w>', 'i', 'k', 'l', 'm', 'n', 'o', 'p', 'r', 't', 'u', 'w', 'world</w>', 'y', 'you</w>']\n",
      "28\n"
     ]
    }
   ],
   "source": [
    "vocab = sorted(vocab)\n",
    "print(vocab)\n",
    "print(len(vocab))"
   ]
  },
  {
   "cell_type": "code",
   "execution_count": 46,
   "id": "c2280415",
   "metadata": {},
   "outputs": [],
   "source": [
    "token_to_id = {token: idx for idx, token in enumerate(vocab)}\n",
    "id_to_token = {idx: token for token, idx in token_to_id.items()}"
   ]
  },
  {
   "cell_type": "code",
   "execution_count": 47,
   "id": "f15946e8",
   "metadata": {},
   "outputs": [
    {
     "name": "stdout",
     "output_type": "stream",
     "text": [
      "\n",
      "Token 到 ID 映射示例（前10个）:\n",
      "  '/' → 0\n",
      "  '<' → 1\n",
      "  '</w>' → 2\n",
      "  '<UNK>' → 3\n",
      "  '>' → 4\n",
      "  'a' → 5\n",
      "  'd' → 6\n",
      "  'e' → 7\n",
      "  'e</w>' → 8\n",
      "  'f' → 9\n",
      "  'h' → 10\n",
      "  'hello</w>' → 11\n",
      "  'ho' → 12\n",
      "  'how</w>' → 13\n",
      "  'i' → 14\n",
      "  'k' → 15\n",
      "  'l' → 16\n",
      "  'm' → 17\n",
      "  'n' → 18\n",
      "  'o' → 19\n",
      "  'p' → 20\n",
      "  'r' → 21\n",
      "  't' → 22\n",
      "  'u' → 23\n",
      "  'w' → 24\n",
      "  'world</w>' → 25\n",
      "  'y' → 26\n",
      "  'you</w>' → 27\n"
     ]
    }
   ],
   "source": [
    "print(f\"\\nToken 到 ID 映射示例（前10个）:\")\n",
    "for token in list(token_to_id.keys()):\n",
    "    print(f\"  '{token}' → {token_to_id[token]}\")"
   ]
  },
  {
   "cell_type": "code",
   "execution_count": null,
   "id": "da7d4beb",
   "metadata": {},
   "outputs": [],
   "source": [
    "def encode(text):\n",
    "    if not text.endswith(\"</w>\"):\n",
    "        text += \"</w>\"\n",
    "\n",
    "    tokens = []\n",
    "    i = 0\n",
    "    n = len(text)\n",
    "\n",
    "    while i < n:\n",
    "        matched = False\n",
    "        for j in range(n + 1, i, -1):\n",
    "            candidate = text[i:j]\n",
    "            if candidate in token_to_id:\n",
    "                tokens.append(candidate)\n",
    "                i = j\n",
    "                matched = True\n",
    "                break\n",
    "        if not matched:\n",
    "            tokens.append(\"<UNK>\")\n",
    "            i += 1\n",
    "    return [token_to_id[token] for token in tokens]"
   ]
  },
  {
   "cell_type": "code",
   "execution_count": 65,
   "id": "3bdde689",
   "metadata": {},
   "outputs": [],
   "source": [
    "def decode(token_ids):\n",
    "    tokens = [id_to_token[token_id] for token_id in token_ids]\n",
    "    raw = \"\".join(tokens)\n",
    "    if raw.endswith(\"</w>\"):\n",
    "        raw = raw[:-4]\n",
    "    return raw"
   ]
  },
  {
   "cell_type": "code",
   "execution_count": 66,
   "id": "88329c36",
   "metadata": {},
   "outputs": [
    {
     "name": "stdout",
     "output_type": "stream",
     "text": [
      "[11]\n",
      "hello\n",
      "[25]\n",
      "world\n",
      "[13]\n",
      "how\n",
      "[5, 21, 8]\n",
      "are\n",
      "[20, 26, 22, 12, 18, 2]\n",
      "python\n",
      "[9, 14, 18, 8]\n",
      "fine\n",
      "[3, 3, 2]\n",
      "<UNK><UNK>\n"
     ]
    }
   ],
   "source": [
    "test_words = [\"hello\", \"world\", \"how\", \"are\", \"python\", \"fine\",\"QQ\"]\n",
    "\n",
    "for text in test_words:\n",
    "    encode_ids = encode(text=text)\n",
    "    print(encode_ids)\n",
    "    print(decode(encode_ids))\n"
   ]
  }
 ],
 "metadata": {
  "kernelspec": {
   "display_name": "cs336-assignment",
   "language": "python",
   "name": "python3"
  },
  "language_info": {
   "codemirror_mode": {
    "name": "ipython",
    "version": 3
   },
   "file_extension": ".py",
   "mimetype": "text/x-python",
   "name": "python",
   "nbconvert_exporter": "python",
   "pygments_lexer": "ipython3",
   "version": "3.9.6"
  }
 },
 "nbformat": 4,
 "nbformat_minor": 5
}
